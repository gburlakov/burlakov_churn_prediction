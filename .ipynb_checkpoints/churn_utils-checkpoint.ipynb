{
 "cells": [
  {
   "cell_type": "code",
   "execution_count": 1,
   "metadata": {
    "collapsed": true
   },
   "outputs": [],
   "source": [
    "import pandas as pd\n",
    "import numpy as np\n",
    "import plotly\n",
    "import plotly.express as px\n",
    "import matplotlib.pyplot as plt\n",
    "import seaborn as sns"
   ]
  },
  {
   "cell_type": "code",
   "execution_count": null,
   "metadata": {
    "collapsed": true
   },
   "outputs": [],
   "source": [
    "def hist_by_contract(df, contract, agg_type):\n",
    "    if agg_type == 'mean':\n",
    "        print(\"{} contract: Average revenue\".format(contract))\n",
    "        agg_revenue_df=pd.DataFrame(df[df['contract_type']==contract].groupby(['months_customer'])['total_fees'].mean()).reset_index()\n",
    "    else:\n",
    "        print(\"{} contract: Total revenue\".format(contract))\n",
    "        agg_revenue_df=pd.DataFrame(df[df['contract_type']==contract].groupby(['months_customer'])['total_fees'].sum()).reset_index()\n",
    "    x=agg_revenue_df['months_customer'].dropna()\n",
    "    y=agg_revenue_df['total_fees'].fillna(0)\n",
    "    plt.hist2d(x, y, bins=2, cmap='Blues')\n",
    "    cb = plt.colorbar()\n",
    "    cb.set_label('counts in bin')\n",
    "    plt.show()"
   ]
  },
  {
   "cell_type": "code",
   "execution_count": null,
   "metadata": {
    "collapsed": true
   },
   "outputs": [],
   "source": [
    "def convert_cat_numeric(df, column):\n",
    "    cat_labels = df[column].unique()\n",
    "    cat_labels=np.where(cat_labels=='No', '0No', cat_labels)\n",
    "    cat_labels=np.where(cat_labels=='Yes', '1Yes', cat_labels)\n",
    "    cat_labels.sort()\n",
    "    d = dict(zip(cat_labels, range(0, len(cat_labels)+1)))\n",
    "    df=df.replace('No phone service', 'No')\n",
    "    df=df.replace('No internet service', 'No')\n",
    "    df=df.replace('No', '0No')\n",
    "    df=df.replace('Yes', '1Yes')\n",
    "    df[column]=df[column].map(d, na_action='ignore')\n",
    "    print(column)\n",
    "    print(d)\n",
    "    return df[column]"
   ]
  }
 ],
 "metadata": {
  "kernelspec": {
   "display_name": "env",
   "language": "python",
   "name": "env"
  },
  "language_info": {
   "codemirror_mode": {
    "name": "ipython",
    "version": 3
   },
   "file_extension": ".py",
   "mimetype": "text/x-python",
   "name": "python",
   "nbconvert_exporter": "python",
   "pygments_lexer": "ipython3",
   "version": "3.9.8"
  }
 },
 "nbformat": 4,
 "nbformat_minor": 2
}
