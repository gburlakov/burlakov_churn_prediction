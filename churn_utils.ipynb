{
 "cells": [
  {
   "cell_type": "code",
   "execution_count": null,
   "metadata": {
    "collapsed": true
   },
   "outputs": [],
   "source": [
    "import pandas as pd\n",
    "import numpy as np\n",
    "import plotly\n",
    "import plotly.express as px\n",
    "import matplotlib.pyplot as plt\n",
    "import seaborn as sns"
   ]
  },
  {
   "cell_type": "code",
   "execution_count": null,
   "metadata": {
    "collapsed": true
   },
   "outputs": [],
   "source": [
    "from sklearn.model_selection import train_test_split\n",
    "from sklearn.linear_model import LogisticRegression\n",
    "from sklearn.ensemble import RandomForestClassifier\n",
    "from sklearn.neighbors import KNeighborsClassifier\n",
    "from sklearn.naive_bayes import GaussianNB\n",
    "from sklearn.calibration import CalibratedClassifierCV\n",
    "from sklearn.svm import LinearSVC\n",
    "from sklearn.metrics import classification_report, confusion_matrix\n",
    "from sklearn.metrics import roc_curve\n",
    "from sklearn.metrics import roc_auc_score"
   ]
  },
  {
   "cell_type": "code",
   "execution_count": null,
   "metadata": {
    "collapsed": true
   },
   "outputs": [],
   "source": [
    "def hist_by_contract(df, contract, agg_type):\n",
    "    \"\"\"\n",
    "    This function plots 2d histograms based on the value of contract column and aggregation operator\n",
    "    applied to the total revenue from all customers with given tenure\n",
    "    \n",
    "    Args:\n",
    "        df - input dataframe about tenure and contracts of customers\n",
    "        contract - contract type (Month-to month, one year, two year)\n",
    "        agg type - aggregation operator (mean or sum)\n",
    "    \n",
    "    Returns:\n",
    "        2d histogram\n",
    "    \"\"\"\n",
    "    if agg_type == 'mean':\n",
    "        print(\"{} contract: Average revenue\".format(contract))\n",
    "        agg_revenue_df=pd.DataFrame(df[df['contract_type']==contract].groupby(['months_customer'])['total_fees'].mean()).reset_index()\n",
    "    else:\n",
    "        print(\"{} contract: Total revenue\".format(contract))\n",
    "        agg_revenue_df=pd.DataFrame(df[df['contract_type']==contract].groupby(['months_customer'])['total_fees'].sum()).reset_index()\n",
    "    x=agg_revenue_df['months_customer'].dropna()\n",
    "    y=agg_revenue_df['total_fees'].fillna(0)\n",
    "    plt.hist2d(x, y, bins=2, cmap='Blues')\n",
    "    cb = plt.colorbar()\n",
    "    cb.set_label('counts in bin')\n",
    "    fig_filename = contract + '_' + agg_type + \"_histogram.png\"\n",
    "    plt.savefig('plots/' + fig_filename)\n",
    "    plt.show()"
   ]
  },
  {
   "cell_type": "code",
   "execution_count": null,
   "metadata": {
    "collapsed": true
   },
   "outputs": [],
   "source": [
    "def convert_cat_numeric(df, column):\n",
    "    \"\"\"\n",
    "    This function converts categorical strings into integer labels to allow for quantitative analysis of the data\n",
    "    \n",
    "    Args:\n",
    "        df - input dataframe with features characterizing analyzed customers\n",
    "        column - categorical data column to be converted to integer data type\n",
    "        \n",
    "    Returns:\n",
    "        df - output dataframe with quantified categorical data\n",
    "    \"\"\"\n",
    "    cat_labels = df[column].unique()\n",
    "    cat_labels=np.where(cat_labels=='No', '0No', cat_labels)\n",
    "    cat_labels=np.where(cat_labels=='Yes', '1Yes', cat_labels)\n",
    "    cat_labels.sort()\n",
    "    d = dict(zip(cat_labels, range(0, len(cat_labels)+1)))\n",
    "    df=df.replace('No phone service', 'No')\n",
    "    df=df.replace('No internet service', 'No')\n",
    "    df=df.replace('No', '0No')\n",
    "    df=df.replace('Yes', '1Yes')\n",
    "    df[column]=df[column].map(d, na_action='ignore')\n",
    "    print(column)\n",
    "    print(d)\n",
    "    \n",
    "    return df[column]"
   ]
  },
  {
   "cell_type": "code",
   "execution_count": null,
   "metadata": {
    "collapsed": true
   },
   "outputs": [],
   "source": [
    "def make_classification(model, X_train, y_train, X_test, y_test, method_string):\n",
    "    \"\"\"\n",
    "    This function fits model coefficients, predicts test values and generates classification metrics summary table\n",
    "    \n",
    "    Args:\n",
    "        model (model object): estimated ML model\n",
    "        X_train (dataframe): training feature data subset\n",
    "        y_train (dataframe): training target data series\n",
    "        X_test (dataframe): test feature data subset\n",
    "        y_test (dataframe): test target data series\n",
    "        method_string (string): name of ML method applied\n",
    "    \n",
    "    Returns:\n",
    "        y_predict (dataframe): predicted target variable\n",
    "        classification metrics summary table (print table)\n",
    "    \"\"\"\n",
    "    model.fit(X_train, y_train)\n",
    "    y_predict = model.predict(X_test)\n",
    "    classification_title = method_string + ' Classification'\n",
    "    print(classification_title)\n",
    "    print(classification_report(y_test, y_predict))\n",
    "    \n",
    "    return y_predict"
   ]
  },
  {
   "cell_type": "code",
   "execution_count": null,
   "metadata": {
    "collapsed": true
   },
   "outputs": [],
   "source": [
    "def make_confusion_matrix(y_test, y_predict, ml_method, method_string):\n",
    "    \"\"\"\n",
    "    This function plots classification metrics data in a confusion matrics graph\n",
    "    \n",
    "    Args:\n",
    "        y_test (dataframe): test target data series\n",
    "        y_predict (dataframe): predicted values for the target values in the test subset\n",
    "        ml_method (string): name of ML method, 'LR', 'RF', 'KNN', 'NB', 'SVM'\n",
    "        method_string (string): name of ML method applied\n",
    "    \n",
    "    Returns:\n",
    "        confusion matrix plot (sns heatmap plot)\n",
    "    \"\"\"\n",
    "    cm = confusion_matrix(y_test, y_predict)\n",
    "    ax= plt.subplot()\n",
    "    sns.heatmap(cm, annot = True)\n",
    "    ax.set_xlabel('Predicted labels')\n",
    "    ax.set_ylabel('True labels')\n",
    "    matrix_title = method_string + ': Confusion Matrix'\n",
    "    ax.set_title(matrix_title)\n",
    "    \n",
    "    fig = ax.get_figure()\n",
    "    fig_filename = method_string + \"_confmatrix.png\"\n",
    "    fig.savefig('plots/' + fig_filename)\n",
    "    \n",
    "    plt.show()"
   ]
  },
  {
   "cell_type": "code",
   "execution_count": null,
   "metadata": {
    "collapsed": true
   },
   "outputs": [],
   "source": [
    "def ml_train_test(X_train, y_train, X_test, y_test, ml_method):\n",
    "    \"\"\"\n",
    "    This function applies an ML method to train and test their predictive power on the input data\n",
    "    \n",
    "    Args:\n",
    "        X_train (dataframe): train feature subset\n",
    "        y_train (dataframe): train target subset\n",
    "        X_test (dataframe): test feature data subset\n",
    "        y_test (dataframe): test target subset\n",
    "        ml_method (string): name of ML method, 'LR', 'RF', 'KNN', 'NB', 'SVM'\n",
    "\n",
    "    Returns:\n",
    "        model object (model object)\n",
    "        classification metrics summary table (print table)\n",
    "        confusion matrix plot (sns heatmap plot)\n",
    "    \"\"\"\n",
    "    if ml_method == 'LR':\n",
    "        print(ml_method)\n",
    "        method_string = 'Logistic Regression'\n",
    "        model = LogisticRegression(max_iter=100000)\n",
    "    elif ml_method == 'RF':\n",
    "        method_string = 'Random Forrest'\n",
    "        model = RandomForestClassifier()\n",
    "    elif ml_method == 'KNN':\n",
    "        method_string = 'K-Nearest Neighbors'\n",
    "        model = KNeighborsClassifier()\n",
    "    elif ml_method == 'NB':\n",
    "        method_string = 'Naive Bayes'\n",
    "        model = GaussianNB()\n",
    "    elif ml_method == 'SVM':\n",
    "        method_string = 'Support Vector Machine'\n",
    "        model_svc = LinearSVC(max_iter=100000)\n",
    "        model = CalibratedClassifierCV(model_svc)\n",
    "    else:\n",
    "        \"Please, enter valid ML method argument: 'LR', 'RF', 'KNN', 'NB', 'SVM'\"\n",
    "    \n",
    "    y_predict = make_classification(model, X_train, y_train, X_test, y_test, method_string)\n",
    "   \n",
    "    make_confusion_matrix(y_test, y_predict, ml_method, method_string)\n",
    "    \n",
    "    return model"
   ]
  },
  {
   "cell_type": "code",
   "execution_count": null,
   "metadata": {
    "collapsed": true
   },
   "outputs": [],
   "source": [
    "def make_aucroc_curve(X_test, y_test, model_holder):\n",
    "    \"\"\"\n",
    "    This function computes the ROC FPR, TPR and thresholds as well as the auc scores for the 5 ML predictions\n",
    "    \n",
    "    Args:\n",
    "        X_test (dataframe): test feature data subset\n",
    "        y_test (dataframe): test target data series\n",
    "        model_holder (dictionary): holder dictionary of trained models\n",
    "    Returns:\n",
    "        AUC ROC curve plot\n",
    "    \"\"\"\n",
    "    fpr1, tpr1, thresh1 = roc_curve(y_test, model_holder['model_lr'].predict_proba(X_test)[:, 1], pos_label = 1)\n",
    "    fpr2, tpr2, thresh2 = roc_curve(y_test, model_holder['model_rf'].predict_proba(X_test)[:, 1], pos_label = 1)\n",
    "    fpr3, tpr3, thresh3 = roc_curve(y_test, model_holder['model_knn'].predict_proba(X_test)[:, 1], pos_label = 1)\n",
    "    fpr4, tpr4, thresh4 = roc_curve(y_test, model_holder['model_nb'].predict_proba(X_test)[:, 1], pos_label = 1)\n",
    "    fpr5, tpr5, thresh5 = roc_curve(y_test, model_holder['model_svm'].predict_proba(X_test)[:, 1], pos_label = 1)\n",
    "    \n",
    "    auc_score1 = roc_auc_score(y_test, model_holder['model_lr'].predict_proba(X_test)[:, 1])\n",
    "    auc_score2 = roc_auc_score(y_test, model_holder['model_rf'].predict_proba(X_test)[:, 1])\n",
    "    auc_score3 = roc_auc_score(y_test, model_holder['model_knn'].predict_proba(X_test)[:, 1])\n",
    "    auc_score4 = roc_auc_score(y_test, model_holder['model_nb'].predict_proba(X_test)[:, 1])\n",
    "    auc_score5 = roc_auc_score(y_test, model_holder['model_svm'].predict_proba(X_test)[:, 1])\n",
    "\n",
    "    print(\"Logistic Regression: \", auc_score1) # Logistic Regression\n",
    "    print(\"Random Forest: \", auc_score2) # Support Vector Machine\n",
    "    print(\"K-Nearest Neighbors: \", auc_score3) # Random Forest\n",
    "    print(\"Naive Bayes: \", auc_score4) # K-Nearest Neighbors\n",
    "    print(\"Support Vector Machine: \", auc_score5) # Naive Bayes\n",
    "    \n",
    "    plt.plot(fpr1, tpr1, linestyle = \"--\", color = \"orange\", label = \"Logistic Regression\")\n",
    "    plt.plot(fpr2, tpr2, linestyle = \"--\", color = \"red\", label = \"Random Forest\")\n",
    "    plt.plot(fpr3, tpr3, linestyle = \"--\", color = \"green\", label = \"K-Nearest Neighbors\")\n",
    "    plt.plot(fpr4, tpr4, linestyle = \"--\", color = \"yellow\", label = \"Naive Bayes\")\n",
    "    plt.plot(fpr5, tpr5, linestyle = \"--\", color = \"blue\", label = \"SVM\")\n",
    "\n",
    "    plt.title('Receiver Operator Characteristics (ROC)')\n",
    "    plt.xlabel('False Positive Rate')\n",
    "    plt.ylabel('True Positive rate')\n",
    "\n",
    "    plt.legend(loc = 'best')\n",
    "    plt.savefig('plots/AUC_ROC_curve.png', dpi = 300)\n",
    "    plt.show()"
   ]
  },
  {
   "cell_type": "code",
   "execution_count": null,
   "metadata": {
    "collapsed": true
   },
   "outputs": [],
   "source": [
    "def make_pred_output(churn_df, X, y, model_holder, ml_method):\n",
    "    \"\"\"\n",
    "    This function creates a dataframe which includes both input data and computed churn probabilities\n",
    "    \n",
    "    Args:\n",
    "        churn_df (dataframe): input data\n",
    "        X (dataframe): input feature data as boolean indices\n",
    "        y (dataframe): input target data as boolean binary index\n",
    "        model_holder (dictionary): holder dictionary of trained models\n",
    "        ml_method (string): name of ML method, 'LR', 'RF', 'KNN', 'NB', 'SVM'\n",
    "    \n",
    "    Returns:\n",
    "        churn_pred_df (dataframe): output dataframe\n",
    "        churn_predicted_probs.csv (text file): output data file\n",
    "    \"\"\"\n",
    "    churn_pred_df = churn_df.copy()\n",
    "    churn_pred_df = churn_pred_df.dropna()\n",
    "    churn_pred_df['churned_bool'] = y\n",
    "    y_predict_probs = model_holder['model_' + ml_method.lower()].predict_proba(X)\n",
    "    y_predict_probs = pd.DataFrame(y_predict_probs)[1]\n",
    "    churn_pred_df['churn_predprob'] = y_predict_probs\n",
    "    churn_pred_df.to_csv('output\\churn_predicted_probs.csv', index=False)"
   ]
  }
 ],
 "metadata": {
  "kernelspec": {
   "display_name": "env",
   "language": "python",
   "name": "env"
  },
  "language_info": {
   "codemirror_mode": {
    "name": "ipython",
    "version": 3
   },
   "file_extension": ".py",
   "mimetype": "text/x-python",
   "name": "python",
   "nbconvert_exporter": "python",
   "pygments_lexer": "ipython3",
   "version": "3.9.8"
  }
 },
 "nbformat": 4,
 "nbformat_minor": 2
}
